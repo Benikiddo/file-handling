{
 "cells": [
  {
   "cell_type": "code",
   "execution_count": null,
   "id": "1f0de064-7350-40e3-9fc1-d874fe38cb01",
   "metadata": {},
   "outputs": [
    {
     "name": "stdout",
     "output_type": "stream",
     "text": [
      "\n",
      "===== File Handling Menu =====\n",
      "1. Create File\n",
      "2. Insert data\n",
      "3. Append to File\n",
      "4. Rename\n",
      "5. Read File\n",
      "6. Replace Content in File\n",
      "7. Delete File\n",
      "8. Working directory\n",
      "9. Change directory\n",
      "10. Exit\n"
     ]
    },
    {
     "name": "stdin",
     "output_type": "stream",
     "text": [
      "Enter your choice:  9\n"
     ]
    },
    {
     "name": "stdout",
     "output_type": "stream",
     "text": [
      "Change directory:  D:\\python\n",
      "\n",
      "===== File Handling Menu =====\n",
      "1. Create File\n",
      "2. Insert data\n",
      "3. Append to File\n",
      "4. Rename\n",
      "5. Read File\n",
      "6. Replace Content in File\n",
      "7. Delete File\n",
      "8. Working directory\n",
      "9. Change directory\n",
      "10. Exit\n"
     ]
    },
    {
     "name": "stdin",
     "output_type": "stream",
     "text": [
      "Enter your choice:  8\n"
     ]
    },
    {
     "name": "stdout",
     "output_type": "stream",
     "text": [
      "current woking directory:  D:\\python\n",
      "\n",
      "===== File Handling Menu =====\n",
      "1. Create File\n",
      "2. Insert data\n",
      "3. Append to File\n",
      "4. Rename\n",
      "5. Read File\n",
      "6. Replace Content in File\n",
      "7. Delete File\n",
      "8. Working directory\n",
      "9. Change directory\n",
      "10. Exit\n"
     ]
    },
    {
     "name": "stdin",
     "output_type": "stream",
     "text": [
      "Enter your choice:  1\n",
      "Enter file name to create:  proj.txt\n"
     ]
    },
    {
     "name": "stdout",
     "output_type": "stream",
     "text": [
      "proj.txt created successfully!\n",
      "\n",
      "===== File Handling Menu =====\n",
      "1. Create File\n",
      "2. Insert data\n",
      "3. Append to File\n",
      "4. Rename\n",
      "5. Read File\n",
      "6. Replace Content in File\n",
      "7. Delete File\n",
      "8. Working directory\n",
      "9. Change directory\n",
      "10. Exit\n"
     ]
    },
    {
     "name": "stdin",
     "output_type": "stream",
     "text": [
      "Enter your choice:  2\n"
     ]
    },
    {
     "name": "stdout",
     "output_type": "stream",
     "text": [
      "Content inserted successfully\n",
      "\n",
      "===== File Handling Menu =====\n",
      "1. Create File\n",
      "2. Insert data\n",
      "3. Append to File\n",
      "4. Rename\n",
      "5. Read File\n",
      "6. Replace Content in File\n",
      "7. Delete File\n",
      "8. Working directory\n",
      "9. Change directory\n",
      "10. Exit\n"
     ]
    },
    {
     "name": "stdin",
     "output_type": "stream",
     "text": [
      "Enter your choice:  3\n"
     ]
    },
    {
     "name": "stdout",
     "output_type": "stream",
     "text": [
      "Content appended successfully.\n",
      "\n",
      "===== File Handling Menu =====\n",
      "1. Create File\n",
      "2. Insert data\n",
      "3. Append to File\n",
      "4. Rename\n",
      "5. Read File\n",
      "6. Replace Content in File\n",
      "7. Delete File\n",
      "8. Working directory\n",
      "9. Change directory\n",
      "10. Exit\n"
     ]
    },
    {
     "name": "stdin",
     "output_type": "stream",
     "text": [
      "Enter your choice:  4\n"
     ]
    },
    {
     "name": "stdout",
     "output_type": "stream",
     "text": [
      "File renames successfully\n",
      "\n",
      "===== File Handling Menu =====\n",
      "1. Create File\n",
      "2. Insert data\n",
      "3. Append to File\n",
      "4. Rename\n",
      "5. Read File\n",
      "6. Replace Content in File\n",
      "7. Delete File\n",
      "8. Working directory\n",
      "9. Change directory\n",
      "10. Exit\n"
     ]
    }
   ],
   "source": [
    "# Mini Project: File Handling Concept\n",
    "import os\n",
    "def create_file():\n",
    "    filename = input(\"Enter file name to create: \")\n",
    "    f=open(filename,\"a\")\n",
    "    f.write(\"Welcome\")\n",
    "    f.close()\n",
    "    print(f\"{filename} created successfully!\")\n",
    "\n",
    "def insert_data():\n",
    "    f=open(\"wee.txt\",\"a\")\n",
    "    f.write(\" to Python \")\n",
    "    f.close()\n",
    "    print(\"Content inserted successfully\")\n",
    "\n",
    "def append_to_file():\n",
    "    f=open(\"wee.txt\",\"a\")\n",
    "    f.write(\"course\")\n",
    "    f.close()\n",
    "    print(\"Content appended successfully.\")\n",
    "\n",
    "def rename():\n",
    "    os.rename(\"wee.txt\",\"wee1.txt\")\n",
    "    print(\"File renames successfully\")    \n",
    "\n",
    "def read_file():\n",
    "    f=open(\"wee.txt\",\"r\")\n",
    "    print(f.read())\n",
    "    f.close()\n",
    "    \n",
    "def replace_content():\n",
    "    f=open(\"wee.txt\",\"a\")\n",
    "    f.write(\"go\")\n",
    "    f.close()\n",
    "    print(\"Text replace successfully\")\n",
    "    \n",
    "def delete_file():\n",
    "    os.unlink(\"wee.txt\")\n",
    "    \n",
    "def working_directory():\n",
    "    print(\"current woking directory: \",os.getcwd())\n",
    "\n",
    "def change_directory():\n",
    "    os.chdir(\"D:\\\\python\")\n",
    "    print(\"Change directory: \",os.getcwd())\n",
    "\n",
    "# Menu loop\n",
    "while True:\n",
    "    print(\"\\n===== File Handling Menu =====\")\n",
    "    print(\"1. Create File\")\n",
    "    print(\"2. Insert data\")\n",
    "    print(\"3. Append to File\")\n",
    "    print(\"4. Rename\")\n",
    "    print(\"5. Read File\")\n",
    "    print(\"6. Replace Content in File\")\n",
    "    print(\"7. Delete File\")\n",
    "    print(\"8. Working directory\")\n",
    "    print(\"9. Change directory\")\n",
    "    print(\"10. Exit\")\n",
    "    \n",
    "    choice = input(\"Enter your choice: \")\n",
    "                                                    \n",
    "    if choice == \"1\":\n",
    "        create_file()\n",
    "    elif choice == \"2\":\n",
    "        insert_data()\n",
    "    elif choice == \"3\":\n",
    "        append_to_file()\n",
    "    elif choice == \"4\":\n",
    "        rename()\n",
    "    elif choice == \"5\":\n",
    "        read_file()\n",
    "    elif choice == \"6\":\n",
    "        replace_content()\n",
    "    elif choice ==\"7\":\n",
    "        delete_file()\n",
    "    elif choice ==\"8\":\n",
    "        working_directory()\n",
    "    elif choice ==\"9\":\n",
    "        change_directory()\n",
    "    elif choice == \"10\":\n",
    "        print(\"Exiting... Goodbye!\")\n",
    "        break\n",
    "    else:\n",
    "        print(\"Invalid choice, try again!\")"
   ]
  },
  {
   "cell_type": "code",
   "execution_count": null,
   "id": "652188cd-542c-4bb8-b4dc-0a9a957ad323",
   "metadata": {},
   "outputs": [],
   "source": []
  }
 ],
 "metadata": {
  "kernelspec": {
   "display_name": "Python 3 (ipykernel)",
   "language": "python",
   "name": "python3"
  },
  "language_info": {
   "codemirror_mode": {
    "name": "ipython",
    "version": 3
   },
   "file_extension": ".py",
   "mimetype": "text/x-python",
   "name": "python",
   "nbconvert_exporter": "python",
   "pygments_lexer": "ipython3",
   "version": "3.13.5"
  }
 },
 "nbformat": 4,
 "nbformat_minor": 5
}
